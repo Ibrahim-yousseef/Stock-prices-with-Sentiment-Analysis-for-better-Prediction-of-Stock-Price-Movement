{
 "cells": [
  {
   "cell_type": "code",
   "execution_count": 40,
   "metadata": {},
   "outputs": [],
   "source": [
    "from sklearn.svm import SVC\n",
    "import numpy as np\n",
    "from sklearn.cross_validation import train_test_split"
   ]
  },
  {
   "cell_type": "code",
   "execution_count": 42,
   "metadata": {},
   "outputs": [
    {
     "data": {
      "text/html": [
       "<div>\n",
       "<style scoped>\n",
       "    .dataframe tbody tr th:only-of-type {\n",
       "        vertical-align: middle;\n",
       "    }\n",
       "\n",
       "    .dataframe tbody tr th {\n",
       "        vertical-align: top;\n",
       "    }\n",
       "\n",
       "    .dataframe thead th {\n",
       "        text-align: right;\n",
       "    }\n",
       "</style>\n",
       "<table border=\"1\" class=\"dataframe\">\n",
       "  <thead>\n",
       "    <tr style=\"text-align: right;\">\n",
       "      <th></th>\n",
       "      <th>Unnamed: 0</th>\n",
       "      <th>close</th>\n",
       "      <th>positive</th>\n",
       "      <th>negative</th>\n",
       "      <th>sentiment</th>\n",
       "      <th>change</th>\n",
       "      <th>momentum</th>\n",
       "      <th>decision</th>\n",
       "    </tr>\n",
       "  </thead>\n",
       "  <tbody>\n",
       "    <tr>\n",
       "      <th>0</th>\n",
       "      <td>2018-06-06</td>\n",
       "      <td>191.339996</td>\n",
       "      <td>0.533706</td>\n",
       "      <td>0.466294</td>\n",
       "      <td>1</td>\n",
       "      <td>0.000000</td>\n",
       "      <td>0</td>\n",
       "      <td>sell</td>\n",
       "    </tr>\n",
       "    <tr>\n",
       "      <th>1</th>\n",
       "      <td>2018-06-07</td>\n",
       "      <td>188.179993</td>\n",
       "      <td>0.500635</td>\n",
       "      <td>0.499365</td>\n",
       "      <td>0</td>\n",
       "      <td>0.016515</td>\n",
       "      <td>0</td>\n",
       "      <td>sell</td>\n",
       "    </tr>\n",
       "    <tr>\n",
       "      <th>2</th>\n",
       "      <td>2018-06-08</td>\n",
       "      <td>189.100006</td>\n",
       "      <td>0.522572</td>\n",
       "      <td>0.477428</td>\n",
       "      <td>1</td>\n",
       "      <td>0.004889</td>\n",
       "      <td>1</td>\n",
       "      <td>buy</td>\n",
       "    </tr>\n",
       "    <tr>\n",
       "      <th>3</th>\n",
       "      <td>2018-06-09</td>\n",
       "      <td>190.320000</td>\n",
       "      <td>0.603555</td>\n",
       "      <td>0.396445</td>\n",
       "      <td>1</td>\n",
       "      <td>0.006452</td>\n",
       "      <td>1</td>\n",
       "      <td>buy</td>\n",
       "    </tr>\n",
       "    <tr>\n",
       "      <th>4</th>\n",
       "      <td>2018-06-10</td>\n",
       "      <td>190.929996</td>\n",
       "      <td>0.560509</td>\n",
       "      <td>0.439491</td>\n",
       "      <td>1</td>\n",
       "      <td>0.003205</td>\n",
       "      <td>1</td>\n",
       "      <td>buy</td>\n",
       "    </tr>\n",
       "  </tbody>\n",
       "</table>\n",
       "</div>"
      ],
      "text/plain": [
       "   Unnamed: 0       close  positive  negative  sentiment    change  momentum  \\\n",
       "0  2018-06-06  191.339996  0.533706  0.466294          1  0.000000         0   \n",
       "1  2018-06-07  188.179993  0.500635  0.499365          0  0.016515         0   \n",
       "2  2018-06-08  189.100006  0.522572  0.477428          1  0.004889         1   \n",
       "3  2018-06-09  190.320000  0.603555  0.396445          1  0.006452         1   \n",
       "4  2018-06-10  190.929996  0.560509  0.439491          1  0.003205         1   \n",
       "\n",
       "  decision  \n",
       "0     sell  \n",
       "1     sell  \n",
       "2      buy  \n",
       "3      buy  \n",
       "4      buy  "
      ]
     },
     "execution_count": 42,
     "metadata": {},
     "output_type": "execute_result"
    }
   ],
   "source": [
    "df3=pd.read_csv(\"sellorbuy.csv\")\n",
    "df3.head()"
   ]
  },
  {
   "cell_type": "code",
   "execution_count": 43,
   "metadata": {},
   "outputs": [],
   "source": [
    "testdataset =df3.iloc[0:,1:7].values\n",
    "test_target=df3.iloc[0:,-1].values"
   ]
  },
  {
   "cell_type": "code",
   "execution_count": 44,
   "metadata": {},
   "outputs": [],
   "source": [
    "X_train, X_test, y_train, y_test = train_test_split(testdataset, test_target, test_size = 0.30, random_state = 0)"
   ]
  },
  {
   "cell_type": "code",
   "execution_count": 45,
   "metadata": {},
   "outputs": [],
   "source": [
    "# Feature Scaling\n",
    "from sklearn.preprocessing import StandardScaler\n",
    "sc = StandardScaler()\n",
    "X_train = sc.fit_transform(X_train)\n",
    "X_test = sc.transform(X_test)"
   ]
  },
  {
   "cell_type": "code",
   "execution_count": 46,
   "metadata": {},
   "outputs": [
    {
     "data": {
      "text/plain": [
       "SVC(C=1.0, cache_size=200, class_weight=None, coef0=0.0,\n",
       "  decision_function_shape='ovo', degree=3, gamma='auto', kernel='rbf',\n",
       "  max_iter=-1, probability=False, random_state=None, shrinking=True,\n",
       "  tol=0.001, verbose=False)"
      ]
     },
     "execution_count": 46,
     "metadata": {},
     "output_type": "execute_result"
    }
   ],
   "source": [
    "# Fitting classifier to the Training set\n",
    "clf = SVC(kernel=\"rbf\", decision_function_shape='ovo')\n",
    "clf.fit(X_train, y_train)"
   ]
  },
  {
   "cell_type": "code",
   "execution_count": 47,
   "metadata": {},
   "outputs": [
    {
     "data": {
      "text/plain": [
       "array(['sell', 'sell', 'sell', 'sell', 'buy', 'sell', 'sell', 'sell',\n",
       "       'buy', 'sell', 'buy', 'buy', 'buy', 'sell', 'sell', 'sell', 'sell',\n",
       "       'buy', 'buy', 'sell', 'buy', 'buy', 'sell', 'buy', 'buy', 'sell',\n",
       "       'buy', 'buy', 'sell', 'buy', 'sell', 'sell', 'sell', 'buy', 'buy',\n",
       "       'sell', 'sell', 'buy', 'sell', 'sell', 'sell', 'sell', 'sell',\n",
       "       'sell', 'buy', 'sell', 'sell', 'sell', 'sell', 'sell', 'sell',\n",
       "       'sell', 'buy', 'sell', 'buy', 'sell', 'buy', 'sell', 'buy', 'sell',\n",
       "       'buy', 'sell', 'sell', 'sell', 'sell', 'buy', 'sell', 'sell',\n",
       "       'buy', 'sell', 'sell', 'sell', 'buy', 'buy', 'sell', 'buy', 'buy',\n",
       "       'sell', 'sell', 'sell', 'buy', 'buy', 'sell', 'buy', 'sell',\n",
       "       'sell', 'sell', 'sell', 'sell', 'sell', 'sell', 'sell', 'sell',\n",
       "       'buy', 'sell', 'sell', 'buy', 'sell', 'buy'], dtype=object)"
      ]
     },
     "execution_count": 47,
     "metadata": {},
     "output_type": "execute_result"
    }
   ],
   "source": [
    "# Predicting the Test set results\n",
    "y_pred = clf.predict(X_test)\n",
    "y_pred"
   ]
  },
  {
   "cell_type": "code",
   "execution_count": 57,
   "metadata": {},
   "outputs": [
    {
     "data": {
      "text/plain": [
       "array([[35,  1],\n",
       "       [ 0, 63]], dtype=int64)"
      ]
     },
     "execution_count": 57,
     "metadata": {},
     "output_type": "execute_result"
    }
   ],
   "source": [
    "# Making the Confusion Matrix\n",
    "from sklearn.metrics import confusion_matrix\n",
    "cm = confusion_matrix(y_test, y_pred)\n",
    "cm"
   ]
  },
  {
   "cell_type": "code",
   "execution_count": 60,
   "metadata": {},
   "outputs": [
    {
     "data": {
      "text/plain": [
       "['sellorbuy.pkl']"
      ]
     },
     "execution_count": 60,
     "metadata": {},
     "output_type": "execute_result"
    }
   ],
   "source": [
    "from sklearn.externals import joblib\n",
    "joblib.dump(clf ,\"sellorbuy.pkl\")"
   ]
  },
  {
   "cell_type": "code",
   "execution_count": 49,
   "metadata": {},
   "outputs": [
    {
     "name": "stdout",
     "output_type": "stream",
     "text": [
      "0.98989898989899\n"
     ]
    }
   ],
   "source": [
    "from sklearn.metrics import accuracy_score\n",
    "print(accuracy_score(y_test,y_pred))"
   ]
  },
  {
   "cell_type": "code",
   "execution_count": 56,
   "metadata": {},
   "outputs": [
    {
     "data": {
      "text/plain": [
       "array([1.        , 1.        , 1.        , 1.        , 1.        ,\n",
       "       1.        , 1.        , 1.        , 1.        , 0.95454545])"
      ]
     },
     "execution_count": 56,
     "metadata": {},
     "output_type": "execute_result"
    }
   ],
   "source": [
    "from sklearn.model_selection import cross_val_score\n",
    "accuracies=cross_val_score(estimator=clf,X=X_train,y=y_train,cv=10)\n",
    "\n",
    "accuracies.mean()\n"
   ]
  }
 ],
 "metadata": {
  "kernelspec": {
   "display_name": "Python 3",
   "language": "python",
   "name": "python3"
  },
  "language_info": {
   "codemirror_mode": {
    "name": "ipython",
    "version": 3
   },
   "file_extension": ".py",
   "mimetype": "text/x-python",
   "name": "python",
   "nbconvert_exporter": "python",
   "pygments_lexer": "ipython3",
   "version": "3.7.0"
  }
 },
 "nbformat": 4,
 "nbformat_minor": 2
}
